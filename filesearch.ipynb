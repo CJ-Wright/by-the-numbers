{
 "cells": [
  {
   "cell_type": "code",
   "execution_count": 1,
   "metadata": {},
   "outputs": [],
   "source": [
    "from pathlib import Path\n",
    "\n",
    "path = Path(\".\")\n",
    "if not path.joinpath(\"libcfgraph\").is_dir():\n",
    "    ! git clone https://github.com/regro/libcfgraph\n",
    "    ! cd libcfgraph && git pull"
   ]
  },
  {
   "cell_type": "code",
   "execution_count": 2,
   "metadata": {},
   "outputs": [],
   "source": [
    "platform = \"linux-64\"\n",
    "suffix = \"/gem\""
   ]
  },
  {
   "cell_type": "code",
   "execution_count": 3,
   "metadata": {},
   "outputs": [],
   "source": [
    "import glob\n",
    "\n",
    "x = glob.glob(f\"libcfgraph/artifacts/*/*/{platform}/*.json\")"
   ]
  },
  {
   "cell_type": "code",
   "execution_count": 4,
   "metadata": {},
   "outputs": [],
   "source": [
    "results = set()"
   ]
  },
  {
   "cell_type": "code",
   "execution_count": 5,
   "metadata": {},
   "outputs": [],
   "source": [
    "def search_files(data, package, suffix, filename):\n",
    "    for fn in data[\"files\"]:\n",
    "        if fn.endswith(suffix):\n",
    "            results.add((package, filename))"
   ]
  },
  {
   "cell_type": "code",
   "execution_count": 6,
   "metadata": {},
   "outputs": [
    {
     "name": "stderr",
     "output_type": "stream",
     "text": [
      "100%|██████████| 85475/85475 [00:23<00:00, 3650.38it/s]\n"
     ]
    }
   ],
   "source": [
    "import json\n",
    "import os\n",
    "\n",
    "import tqdm\n",
    "\n",
    "compiled_things = set()\n",
    "migrated_things = set()\n",
    "for metadata in tqdm.tqdm(x):\n",
    "    *_, package, channel, arch, fn = metadata.split(os.path.sep)\n",
    "    with open(metadata, \"r\") as fo:\n",
    "        data = json.loads(fo.read())\n",
    "    search_files(data, package=package, filename=fn, suffix=suffix)"
   ]
  },
  {
   "cell_type": "code",
   "execution_count": 7,
   "metadata": {},
   "outputs": [
    {
     "data": {
      "text/plain": [
       "{('ruby', 'ruby-2.3.3-0.json'),\n",
       " ('ruby', 'ruby-2.4.1-0.json'),\n",
       " ('ruby', 'ruby-2.4.2-0.json'),\n",
       " ('ruby', 'ruby-2.4.2-1.json'),\n",
       " ('ruby', 'ruby-2.4.2-2.json'),\n",
       " ('ruby', 'ruby-2.4.3-0.json'),\n",
       " ('ruby', 'ruby-2.4.4-0.json'),\n",
       " ('ruby', 'ruby-2.4.4-h0825b16_1.json'),\n",
       " ('ruby', 'ruby-2.4.4-h54e3902_1001.json'),\n",
       " ('ruby', 'ruby-2.4.5-h48a8d5d_1002.json'),\n",
       " ('ruby', 'ruby-2.4.5-h48a8d5d_1003.json'),\n",
       " ('ruby', 'ruby-2.4.5-h54e3902_1000.json'),\n",
       " ('ruby', 'ruby-2.4.5-haa072f8_1001.json'),\n",
       " ('ruby', 'ruby-2.4.5-hfe99ee1_1001.json'),\n",
       " ('ruby', 'ruby-2.5.5-h48a8d5d_0.json'),\n",
       " ('ruby', 'ruby-2.5.5-h48a8d5d_1.json'),\n",
       " ('ruby', 'ruby-2.5.7-h305c5c1_0.json'),\n",
       " ('ruby', 'ruby-2.6.3-hda29b87_0.json'),\n",
       " ('ruby', 'ruby-2.6.5-h305c5c1_0.json')}"
      ]
     },
     "execution_count": 7,
     "metadata": {},
     "output_type": "execute_result"
    }
   ],
   "source": [
    "results"
   ]
  }
 ],
 "metadata": {
  "kernelspec": {
   "display_name": "Python 3",
   "language": "python",
   "name": "python3"
  },
  "language_info": {
   "codemirror_mode": {
    "name": "ipython",
    "version": 3
   },
   "file_extension": ".py",
   "mimetype": "text/x-python",
   "name": "python",
   "nbconvert_exporter": "python",
   "pygments_lexer": "ipython3",
   "version": "3.8.0"
  }
 },
 "nbformat": 4,
 "nbformat_minor": 2
}
