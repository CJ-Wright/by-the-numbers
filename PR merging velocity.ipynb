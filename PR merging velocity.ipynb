{
 "cells": [
  {
   "cell_type": "code",
   "execution_count": 36,
   "metadata": {},
   "outputs": [],
   "source": [
    "%matplotlib inline"
   ]
  },
  {
   "cell_type": "code",
   "execution_count": 37,
   "metadata": {},
   "outputs": [],
   "source": [
    "from pathlib import Path\n",
    "import matplotlib.pyplot as plt\n",
    "\n",
    "from conda_forge_tick.utils import load_graph"
   ]
  },
  {
   "cell_type": "code",
   "execution_count": 38,
   "metadata": {},
   "outputs": [
    {
     "name": "stdout",
     "output_type": "stream",
     "text": [
      "Cloning into 'cf-graph-countyfair'...\n",
      "remote: Enumerating objects: 64693, done.\u001b[K\n",
      "remote: Counting objects: 100% (64693/64693), done.\u001b[K\n",
      "remote: Compressing objects: 100% (36858/36858), done.\u001b[K\n",
      "remote: Total 64693 (delta 57735), reused 30199 (delta 27831), pack-reused 0\u001b[K\n",
      "Receiving objects: 100% (64693/64693), 85.20 MiB | 7.25 MiB/s, done.\n",
      "Resolving deltas: 100% (57735/57735), done.\n",
      "Updating files: 100% (65637/65637), done.\n",
      "ln: failed to create symbolic link 'graph.json': File exists\n",
      "Cloning into 'cf-scripts'...\n",
      "remote: Enumerating objects: 8563, done.\u001b[K\n",
      "remote: Total 8563 (delta 0), reused 0 (delta 0), pack-reused 8563\u001b[K\n",
      "Receiving objects: 100% (8563/8563), 2.08 MiB | 8.80 MiB/s, done.\n",
      "Resolving deltas: 100% (6094/6094), done.\n"
     ]
    }
   ],
   "source": [
    "path = Path(\".\")\n",
    "if not path.joinpath(\"cf-graph-countyfair\").is_dir():\n",
    "    !git clone https://github.com/regro/cf-graph-countyfair --depth=1\n",
    "    !ln -s cf-graph-countyfair/graph.json graph.json\n",
    "\n",
    "if not path.joinpath(\"cf-scripts\").is_dir():\n",
    "    !git clone https://github.com/regro/cf-scripts\n",
    "    !ln -s cf-scripts/conda_forge_tick  conda_forge_tick"
   ]
  },
  {
   "cell_type": "code",
   "execution_count": 39,
   "metadata": {},
   "outputs": [
    {
     "name": "stdout",
     "output_type": "stream",
     "text": [
      "/home/christopher/dev/conda-forge/cf-graph-countyfair/cf-graph-countyfair\n"
     ]
    }
   ],
   "source": [
    "cd cf-graph-countyfair"
   ]
  },
  {
   "cell_type": "code",
   "execution_count": 40,
   "metadata": {},
   "outputs": [],
   "source": [
    "gx = load_graph()"
   ]
  },
  {
   "cell_type": "code",
   "execution_count": 41,
   "metadata": {},
   "outputs": [],
   "source": [
    "import matplotlib.pyplot as plt\n",
    "import numpy as np\n",
    "import pandas as pd"
   ]
  },
  {
   "cell_type": "code",
   "execution_count": 42,
   "metadata": {},
   "outputs": [],
   "source": [
    "a = 'created_at'\n",
    "b = 'closed_at'"
   ]
  },
  {
   "cell_type": "code",
   "execution_count": 43,
   "metadata": {},
   "outputs": [],
   "source": [
    "import datetime\n",
    "import time"
   ]
  },
  {
   "cell_type": "code",
   "execution_count": 44,
   "metadata": {},
   "outputs": [],
   "source": [
    "def get_datetime(s):\n",
    "    return datetime.datetime.strptime(s,'%Y-%m-%dT%H:%M:%SZ')"
   ]
  },
  {
   "cell_type": "code",
   "execution_count": 45,
   "metadata": {},
   "outputs": [],
   "source": [
    "elapsed = []\n",
    "started = []"
   ]
  },
  {
   "cell_type": "code",
   "execution_count": 46,
   "metadata": {},
   "outputs": [],
   "source": [
    "for k, node in gx.nodes.items():\n",
    "    prs = node.get('payload', {}).get('PRed', [])\n",
    "    for pr in prs: \n",
    "        if 'PR' in pr and a in pr[\"PR\"]:\n",
    "            start = get_datetime(pr['PR'][a])\n",
    "            started.append(start)\n",
    "            finish = get_datetime(pr['PR'][b]) if pr['PR'][b] else pd.NaT\n",
    "            elapsed.append((finish-start).total_seconds())"
   ]
  },
  {
   "cell_type": "code",
   "execution_count": 47,
   "metadata": {},
   "outputs": [],
   "source": [
    "df = pd.DataFrame({'elapsed': elapsed, 'started': started})\n",
    "df = df.set_index('started')"
   ]
  },
  {
   "cell_type": "code",
   "execution_count": 48,
   "metadata": {},
   "outputs": [
    {
     "data": {
      "text/plain": [
       "Timestamp('2020-06-30 18:13:33.701617')"
      ]
     },
     "execution_count": 48,
     "metadata": {},
     "output_type": "execute_result"
    }
   ],
   "source": [
    "datetime.datetime.today() + pd.offsets.MonthEnd() + pd.offsets.MonthEnd()"
   ]
  },
  {
   "cell_type": "code",
   "execution_count": 59,
   "metadata": {},
   "outputs": [],
   "source": [
    "date_ranges = [str(x) for x in pd.date_range(np.min(started), \n",
    "                                             datetime.datetime.today() + pd.offsets.MonthEnd() + pd.offsets.MonthEnd(), \n",
    "                                             freq='M', closed='left')]"
   ]
  },
  {
   "cell_type": "code",
   "execution_count": 60,
   "metadata": {},
   "outputs": [
    {
     "data": {
      "text/plain": [
       "['2018-06-30 22:41:25',\n",
       " '2018-07-31 22:41:25',\n",
       " '2018-08-31 22:41:25',\n",
       " '2018-09-30 22:41:25',\n",
       " '2018-10-31 22:41:25',\n",
       " '2018-11-30 22:41:25',\n",
       " '2018-12-31 22:41:25',\n",
       " '2019-01-31 22:41:25',\n",
       " '2019-02-28 22:41:25',\n",
       " '2019-03-31 22:41:25',\n",
       " '2019-04-30 22:41:25',\n",
       " '2019-05-31 22:41:25',\n",
       " '2019-06-30 22:41:25',\n",
       " '2019-07-31 22:41:25',\n",
       " '2019-08-31 22:41:25',\n",
       " '2019-09-30 22:41:25',\n",
       " '2019-10-31 22:41:25',\n",
       " '2019-11-30 22:41:25',\n",
       " '2019-12-31 22:41:25',\n",
       " '2020-01-31 22:41:25',\n",
       " '2020-02-29 22:41:25',\n",
       " '2020-03-31 22:41:25',\n",
       " '2020-04-30 22:41:25',\n",
       " '2020-05-31 22:41:25']"
      ]
     },
     "execution_count": 60,
     "metadata": {},
     "output_type": "execute_result"
    }
   ],
   "source": [
    "date_ranges"
   ]
  },
  {
   "cell_type": "code",
   "execution_count": 51,
   "metadata": {},
   "outputs": [],
   "source": [
    "medians = []\n",
    "less_1_month = []\n",
    "open_pr = []"
   ]
  },
  {
   "cell_type": "code",
   "execution_count": 52,
   "metadata": {},
   "outputs": [],
   "source": [
    "hour = 1\n",
    "day = 24"
   ]
  },
  {
   "cell_type": "code",
   "execution_count": 62,
   "metadata": {},
   "outputs": [
    {
     "name": "stdout",
     "output_type": "stream",
     "text": [
      "/home/christopher/dev/conda-forge/by-the-numbers\n"
     ]
    }
   ],
   "source": [
    "cd ../by-the-numbers"
   ]
  },
  {
   "cell_type": "code",
   "execution_count": 63,
   "metadata": {
    "scrolled": false
   },
   "outputs": [
    {
     "ename": "SyntaxError",
     "evalue": "f-string: mismatched '(', '{', or '[' (<ipython-input-63-b68d221d33ab>, line 16)",
     "output_type": "error",
     "traceback": [
      "\u001b[0;36m  File \u001b[0;32m\"<ipython-input-63-b68d221d33ab>\"\u001b[0;36m, line \u001b[0;32m16\u001b[0m\n\u001b[0;31m    plt.savefig(f\"plots/{be.split(\" \")[0]}-{en.split(\" \")[0]}-{'_'.join(context)}.png\")\u001b[0m\n\u001b[0m               ^\u001b[0m\n\u001b[0;31mSyntaxError\u001b[0m\u001b[0;31m:\u001b[0m f-string: mismatched '(', '{', or '['\n"
     ]
    }
   ],
   "source": [
    "for i, (be, en) in enumerate(zip(date_ranges, date_ranges[1:])):\n",
    "    \n",
    "    nelapsed = df[be:en]['elapsed']/(60*60)\n",
    "    \n",
    "    medians.append(np.median(nelapsed))\n",
    "    less_1_month.append(np.sum(nelapsed < 30*day) / len(nelapsed))\n",
    "    open_pr.append(np.sum(np.isnan(np.asarray(nelapsed))))\n",
    "    \n",
    "    vals, _= np.histogram(nelapsed, [0, 5/60, 30/60, hour, 5*hour, 10*hour, day, 3*day, 5*day, 7*day, 14*day, 30*day, 60*day, 90*day, 365*day, pd.NaT])\n",
    "    for context in [(\"dark_background\", \"seaborn-talk\"), (\"seaborn-talk\", )]:\n",
    "        with plt.style.context(*context):\n",
    "            plt.axes(label=i)\n",
    "            plt.bar(range(len(vals)), vals, tick_label=['5 min', '30 min', '1 hour', '5 hours', '10 hours', '1 day', '3 days', '5 days', '1 week', '2 weeks', '1 month', '2 months', '3 months', '1 year+', 'not closed'], )\n",
    "            plt.xticks(rotation=45)\n",
    "            plt.title(f'{be.split(\" \")[0]}-{en.split(\" \")[0]}')\n",
    "            plt.savefig(f\"plots/{be.split(\" \")[0]}-{en.split(\" \")[0]}-{'_'.join(context)}.png\")\n",
    "    "
   ]
  },
  {
   "cell_type": "code",
   "execution_count": 54,
   "metadata": {},
   "outputs": [
    {
     "data": {
      "text/plain": [
       "([0,\n",
       "  1,\n",
       "  2,\n",
       "  3,\n",
       "  4,\n",
       "  5,\n",
       "  6,\n",
       "  7,\n",
       "  8,\n",
       "  9,\n",
       "  10,\n",
       "  11,\n",
       "  12,\n",
       "  13,\n",
       "  14,\n",
       "  15,\n",
       "  16,\n",
       "  17,\n",
       "  18,\n",
       "  19,\n",
       "  20,\n",
       "  21,\n",
       "  22],\n",
       " <a list of 23 Text major ticklabel objects>)"
      ]
     },
     "execution_count": 54,
     "metadata": {},
     "output_type": "execute_result"
    },
    {
     "data": {
      "image/png": "[encoded data removed]",
      "text/plain": [
       "<Figure size 432x288 with 1 Axes>"
      ]
     },
     "metadata": {
      "needs_background": "light"
     },
     "output_type": "display_data"
    }
   ],
   "source": [
    "plt.plot([x.split(' ')[0] for x in date_ranges[:-1]], less_1_month)\n",
    "plt.xticks(rotation=45)"
   ]
  },
  {
   "cell_type": "code",
   "execution_count": 119,
   "metadata": {},
   "outputs": [
    {
     "data": {
      "text/plain": [
       "([0, 1, 2, 3, 4, 5, 6, 7, 8, 9, 10, 11, 12, 13, 14, 15, 16, 17, 18, 19, 20],\n",
       " <a list of 21 Text major ticklabel objects>)"
      ]
     },
     "execution_count": 119,
     "metadata": {},
     "output_type": "execute_result"
    },
    {
     "data": {
      "image/png": "[encoded data removed]",
      "text/plain": [
       "<Figure size 432x288 with 1 Axes>"
      ]
     },
     "metadata": {
      "needs_background": "light"
     },
     "output_type": "display_data"
    }
   ],
   "source": [
    "plt.plot([x.split(' ')[0] for x in date_ranges[:-1]], open_pr)\n",
    "plt.xticks(rotation=45)"
   ]
  },
  {
   "cell_type": "code",
   "execution_count": 105,
   "metadata": {},
   "outputs": [
    {
     "data": {
      "text/plain": [
       "3246"
      ]
     },
     "execution_count": 105,
     "metadata": {},
     "output_type": "execute_result"
    }
   ],
   "source": [
    "np.sum(np.isnan(np.asarray(elapsed)))"
   ]
  },
  {
   "cell_type": "code",
   "execution_count": 162,
   "metadata": {},
   "outputs": [],
   "source": [
    "vals, _= np.histogram(np.asarray(elapsed)/60/60, [0, 5/60, 30/60, hour, 5*hour, 10*hour, day, 3*day, 5*day, 7*day, 14*day, 30*day, 60*day, 90*day, 365*day])"
   ]
  },
  {
   "cell_type": "code",
   "execution_count": 163,
   "metadata": {},
   "outputs": [
    {
     "data": {
      "text/plain": [
       "(array([ 0,  1,  2,  3,  4,  5,  6,  7,  8,  9, 10, 11, 12, 13]),\n",
       " <a list of 14 Text major ticklabel objects>)"
      ]
     },
     "execution_count": 163,
     "metadata": {},
     "output_type": "execute_result"
    },
    {
     "data": {
      "image/png": "[encoded data removed]",
      "text/plain": [
       "<Figure size 432x288 with 1 Axes>"
      ]
     },
     "metadata": {
      "needs_background": "light"
     },
     "output_type": "display_data"
    }
   ],
   "source": [
    "plt.bar(range(len(vals)), vals, tick_label=['5 min', '30 min', '1 hour', '5 hours', '10 hours', '1 day', '3 days', '5 days', '1 week', '2 weeks', '1 month', '2 months', '3 months', '1 year+'], )\n",
    "plt.xticks(rotation=45)"
   ]
  },
  {
   "cell_type": "code",
   "execution_count": null,
   "metadata": {},
   "outputs": [],
   "source": []
  }
 ],
 "metadata": {
  "kernelspec": {
   "display_name": "Python 3",
   "language": "python",
   "name": "python3"
  },
  "language_info": {
   "codemirror_mode": {
    "name": "ipython",
    "version": 3
   },
   "file_extension": ".py",
   "mimetype": "text/x-python",
   "name": "python",
   "nbconvert_exporter": "python",
   "pygments_lexer": "ipython3",
   "version": "3.7.6"
  }
 },
 "nbformat": 4,
 "nbformat_minor": 4
}
